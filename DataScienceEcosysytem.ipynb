{
 "cells": [
  {
   "cell_type": "markdown",
   "id": "22393c52",
   "metadata": {},
   "source": [
    "# Data Science Tools and Ecosystem"
   ]
  },
  {
   "cell_type": "markdown",
   "id": "ff831637",
   "metadata": {},
   "source": [
    "## In this notebook, Data Science Tools and Ecosystem are summarized."
   ]
  },
  {
   "cell_type": "markdown",
   "id": "614ba48a",
   "metadata": {},
   "source": [
    "## Objectives:\n",
    "* Popular languages that data scientists use.\n",
    "* commonly used libraries used by  data scientists.\n",
    "* Creating a table in markdown.\n",
    "* Arthimetic expressions."
   ]
  },
  {
   "cell_type": "markdown",
   "id": "3d691706",
   "metadata": {},
   "source": [
    "## Some of the popular languages that Data Scientists use are: \n",
    "1. Python\n",
    "2. R\n",
    "3. SQL"
   ]
  },
  {
   "cell_type": "markdown",
   "id": "add58bac",
   "metadata": {},
   "source": [
    "## Some of the commonly used libraries used by Data Scientists include:\n",
    "1. Pandas\n",
    "2. Numpy\n",
    "3. matplotlib\n",
    "4. Seaborn\n",
    "5. Scikit-learn\n",
    "6. Tensorflow"
   ]
  },
  {
   "cell_type": "markdown",
   "id": "5723019d",
   "metadata": {},
   "source": [
    "## Table:\n",
    "\n",
    "| Data Science Tools |\n",
    "|:------------------:|\n",
    "| Jupyter notebook / lab |\n",
    "| VS Code |\n",
    "| R Studio |\n",
    "| IBM Watson Studio|\n"
   ]
  },
  {
   "cell_type": "markdown",
   "id": "2063d8e0",
   "metadata": {},
   "source": [
    "### Below are a few examples of evaluating arithmetic expressions in Python.\n",
    "2*3+5"
   ]
  },
  {
   "cell_type": "code",
   "execution_count": 3,
   "id": "7cdb518d",
   "metadata": {},
   "outputs": [
    {
     "data": {
      "text/plain": [
       "11"
      ]
     },
     "execution_count": 3,
     "metadata": {},
     "output_type": "execute_result"
    }
   ],
   "source": [
    "2*3+5"
   ]
  },
  {
   "cell_type": "code",
   "execution_count": 6,
   "id": "5744a1a0",
   "metadata": {},
   "outputs": [
    {
     "data": {
      "text/plain": [
       "17"
      ]
     },
     "execution_count": 6,
     "metadata": {},
     "output_type": "execute_result"
    }
   ],
   "source": [
    "#This a simple arithmetic expression to mutiply then add integers.\n",
    "\n",
    "(3*4)+5"
   ]
  },
  {
   "cell_type": "code",
   "execution_count": 8,
   "id": "1afbd6ea",
   "metadata": {},
   "outputs": [
    {
     "name": "stdout",
     "output_type": "stream",
     "text": [
      "Time in hours: 3.3333333333333335\n"
     ]
    }
   ],
   "source": [
    "#Insert a comment line before the expression to explain the operation e.g. \n",
    "#This will convert 200 minutes tohours by diving by 60.\n",
    "a=200\n",
    "b=a/60\n",
    "print(\"Time in hours:\", b)"
   ]
  },
  {
   "cell_type": "markdown",
   "id": "0fb1df57",
   "metadata": {},
   "source": [
    "## Author:\n",
    "RAMINI VARUN BABU."
   ]
  },
  {
   "cell_type": "code",
   "execution_count": null,
   "id": "4fe40927",
   "metadata": {},
   "outputs": [],
   "source": []
  }
 ],
 "metadata": {
  "kernelspec": {
   "display_name": "Python 3 (ipykernel)",
   "language": "python",
   "name": "python3"
  },
  "language_info": {
   "codemirror_mode": {
    "name": "ipython",
    "version": 3
   },
   "file_extension": ".py",
   "mimetype": "text/x-python",
   "name": "python",
   "nbconvert_exporter": "python",
   "pygments_lexer": "ipython3",
   "version": "3.9.13"
  }
 },
 "nbformat": 4,
 "nbformat_minor": 5
}
